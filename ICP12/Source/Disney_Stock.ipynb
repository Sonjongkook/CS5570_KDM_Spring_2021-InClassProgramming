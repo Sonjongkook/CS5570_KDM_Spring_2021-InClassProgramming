{
  "nbformat": 4,
  "nbformat_minor": 0,
  "metadata": {
    "colab": {
      "name": "Disney_Stock.ipynb",
      "provenance": []
    },
    "kernelspec": {
      "name": "python3",
      "display_name": "Python 3"
    },
    "language_info": {
      "name": "python"
    }
  },
  "cells": [
    {
      "cell_type": "code",
      "metadata": {
        "colab": {
          "base_uri": "https://localhost:8080/",
          "height": 215
        },
        "id": "dgQYTFOZ1V3L",
        "outputId": "f7ab8522-1bf1-434c-8e46-857430133b82"
      },
      "source": [
        "import math\n",
        "import matplotlib.pyplot as plt\n",
        "import keras\n",
        "import pandas as pd\n",
        "import numpy as np\n",
        "from keras.models import Sequential\n",
        "from keras.layers import Dense\n",
        "from keras.layers import LSTM\n",
        "from keras.layers import Dropout\n",
        "from keras.layers import *\n",
        "from sklearn.preprocessing import MinMaxScaler\n",
        "from sklearn.metrics import mean_squared_error\n",
        "from sklearn.metrics import mean_absolute_error\n",
        "from sklearn.model_selection import train_test_split\n",
        "from keras.callbacks import EarlyStopping\n",
        "df=pd.read_csv(\"/content/drive/MyDrive/DIS.csv\")\n",
        "print(\"Number of rows and columns:\", df.shape)\n",
        "df.head(5)"
      ],
      "execution_count": 1,
      "outputs": [
        {
          "output_type": "stream",
          "text": [
            "Number of rows and columns: (1259, 7)\n"
          ],
          "name": "stdout"
        },
        {
          "output_type": "execute_result",
          "data": {
            "text/html": [
              "<div>\n",
              "<style scoped>\n",
              "    .dataframe tbody tr th:only-of-type {\n",
              "        vertical-align: middle;\n",
              "    }\n",
              "\n",
              "    .dataframe tbody tr th {\n",
              "        vertical-align: top;\n",
              "    }\n",
              "\n",
              "    .dataframe thead th {\n",
              "        text-align: right;\n",
              "    }\n",
              "</style>\n",
              "<table border=\"1\" class=\"dataframe\">\n",
              "  <thead>\n",
              "    <tr style=\"text-align: right;\">\n",
              "      <th></th>\n",
              "      <th>Date</th>\n",
              "      <th>Open</th>\n",
              "      <th>High</th>\n",
              "      <th>Low</th>\n",
              "      <th>Close</th>\n",
              "      <th>Adj Close</th>\n",
              "      <th>Volume</th>\n",
              "    </tr>\n",
              "  </thead>\n",
              "  <tbody>\n",
              "    <tr>\n",
              "      <th>0</th>\n",
              "      <td>4/26/2016</td>\n",
              "      <td>104.580002</td>\n",
              "      <td>105.570000</td>\n",
              "      <td>104.180000</td>\n",
              "      <td>104.889999</td>\n",
              "      <td>98.957764</td>\n",
              "      <td>6452900</td>\n",
              "    </tr>\n",
              "    <tr>\n",
              "      <th>1</th>\n",
              "      <td>4/27/2016</td>\n",
              "      <td>105.190002</td>\n",
              "      <td>105.599998</td>\n",
              "      <td>104.760002</td>\n",
              "      <td>105.279999</td>\n",
              "      <td>99.325691</td>\n",
              "      <td>5996100</td>\n",
              "    </tr>\n",
              "    <tr>\n",
              "      <th>2</th>\n",
              "      <td>4/28/2016</td>\n",
              "      <td>104.540001</td>\n",
              "      <td>105.489998</td>\n",
              "      <td>103.800003</td>\n",
              "      <td>104.029999</td>\n",
              "      <td>98.146393</td>\n",
              "      <td>5658300</td>\n",
              "    </tr>\n",
              "    <tr>\n",
              "      <th>3</th>\n",
              "      <td>4/29/2016</td>\n",
              "      <td>103.949997</td>\n",
              "      <td>104.209999</td>\n",
              "      <td>102.400002</td>\n",
              "      <td>103.260002</td>\n",
              "      <td>97.419945</td>\n",
              "      <td>7006900</td>\n",
              "    </tr>\n",
              "    <tr>\n",
              "      <th>4</th>\n",
              "      <td>5/2/2016</td>\n",
              "      <td>103.300003</td>\n",
              "      <td>104.570000</td>\n",
              "      <td>102.800003</td>\n",
              "      <td>104.360001</td>\n",
              "      <td>98.457741</td>\n",
              "      <td>5285700</td>\n",
              "    </tr>\n",
              "  </tbody>\n",
              "</table>\n",
              "</div>"
            ],
            "text/plain": [
              "        Date        Open        High  ...       Close  Adj Close   Volume\n",
              "0  4/26/2016  104.580002  105.570000  ...  104.889999  98.957764  6452900\n",
              "1  4/27/2016  105.190002  105.599998  ...  105.279999  99.325691  5996100\n",
              "2  4/28/2016  104.540001  105.489998  ...  104.029999  98.146393  5658300\n",
              "3  4/29/2016  103.949997  104.209999  ...  103.260002  97.419945  7006900\n",
              "4   5/2/2016  103.300003  104.570000  ...  104.360001  98.457741  5285700\n",
              "\n",
              "[5 rows x 7 columns]"
            ]
          },
          "metadata": {
            "tags": []
          },
          "execution_count": 1
        }
      ]
    },
    {
      "cell_type": "code",
      "metadata": {
        "id": "OErTxePn1WUv"
      },
      "source": [
        "\n",
        "#split the data into training and test sets to avoid overfitting and to be able to investigate the generalization ability of our model.\n",
        "training_set = df.iloc[:800, 1:2].values\n",
        "test_set = df.iloc[800:, 1:2].values"
      ],
      "execution_count": 2,
      "outputs": []
    },
    {
      "cell_type": "code",
      "metadata": {
        "id": "fm2vF5np13vx"
      },
      "source": [
        "\n",
        "# Feature Scaling\n",
        "sc = MinMaxScaler(feature_range = (0, 1))\n",
        "training_set_scaled = sc.fit_transform(training_set)\n",
        "# Creating a data structure with 60 time-steps and 1 output\n",
        "X_train = []\n",
        "y_train = []\n",
        "for i in range(60, 800):\n",
        "    X_train.append(training_set_scaled[i-60:i, 0])\n",
        "    y_train.append(training_set_scaled[i, 0])\n",
        "X_train, y_train = np.array(X_train), np.array(y_train)\n",
        "X_train = np.reshape(X_train, (X_train.shape[0], X_train.shape[1], 1))\n",
        "#(740, 60, 1)"
      ],
      "execution_count": 3,
      "outputs": []
    },
    {
      "cell_type": "code",
      "metadata": {
        "colab": {
          "base_uri": "https://localhost:8080/"
        },
        "id": "fiINv_E-2C9v",
        "outputId": "771e3552-c4c3-41e1-84e1-25cda1d3bba4"
      },
      "source": [
        "\n",
        "model = Sequential()\n",
        "#Adding the first LSTM layer and some Dropout regularisation\n",
        "model.add(LSTM(units = 50, return_sequences = True, input_shape = (X_train.shape[1], 1)))\n",
        "model.add(Dropout(0.2))\n",
        "# Adding a second LSTM layer and some Dropout regularisation\n",
        "model.add(LSTM(units = 50, return_sequences = True))\n",
        "model.add(Dropout(0.2))\n",
        "# Adding a third LSTM layer and some Dropout regularisation\n",
        "model.add(LSTM(units = 50, return_sequences = True))\n",
        "model.add(Dropout(0.2))\n",
        "# Adding a fourth LSTM layer and some Dropout regularisation\n",
        "model.add(LSTM(units = 50))\n",
        "model.add(Dropout(0.2))\n",
        "# Adding the output layer\n",
        "model.add(Dense(units = 1))\n",
        "# Compiling the RNN\n",
        "model.compile(optimizer = 'adam', loss = 'mean_squared_error')\n",
        "# Fitting the RNN to the Training set\n",
        "model.fit(X_train, y_train, epochs = 100, batch_size = 32)"
      ],
      "execution_count": 4,
      "outputs": [
        {
          "output_type": "stream",
          "text": [
            "Epoch 1/100\n",
            "24/24 [==============================] - 9s 112ms/step - loss: 0.0560\n",
            "Epoch 2/100\n",
            "24/24 [==============================] - 3s 119ms/step - loss: 0.0086\n",
            "Epoch 3/100\n",
            "24/24 [==============================] - 3s 120ms/step - loss: 0.0100\n",
            "Epoch 4/100\n",
            "24/24 [==============================] - 3s 122ms/step - loss: 0.0058\n",
            "Epoch 5/100\n",
            "24/24 [==============================] - 3s 122ms/step - loss: 0.0068\n",
            "Epoch 6/100\n",
            "24/24 [==============================] - 3s 121ms/step - loss: 0.0071\n",
            "Epoch 7/100\n",
            "24/24 [==============================] - 3s 119ms/step - loss: 0.0059\n",
            "Epoch 8/100\n",
            "24/24 [==============================] - 3s 117ms/step - loss: 0.0069\n",
            "Epoch 9/100\n",
            "24/24 [==============================] - 3s 119ms/step - loss: 0.0057\n",
            "Epoch 10/100\n",
            "24/24 [==============================] - 3s 118ms/step - loss: 0.0051\n",
            "Epoch 11/100\n",
            "24/24 [==============================] - 3s 120ms/step - loss: 0.0048\n",
            "Epoch 12/100\n",
            "24/24 [==============================] - 3s 118ms/step - loss: 0.0047\n",
            "Epoch 13/100\n",
            "24/24 [==============================] - 3s 119ms/step - loss: 0.0045\n",
            "Epoch 14/100\n",
            "24/24 [==============================] - 3s 118ms/step - loss: 0.0046\n",
            "Epoch 15/100\n",
            "24/24 [==============================] - 3s 120ms/step - loss: 0.0065\n",
            "Epoch 16/100\n",
            "24/24 [==============================] - 3s 121ms/step - loss: 0.0055\n",
            "Epoch 17/100\n",
            "24/24 [==============================] - 3s 119ms/step - loss: 0.0042\n",
            "Epoch 18/100\n",
            "24/24 [==============================] - 3s 121ms/step - loss: 0.0041\n",
            "Epoch 19/100\n",
            "24/24 [==============================] - 3s 119ms/step - loss: 0.0043\n",
            "Epoch 20/100\n",
            "24/24 [==============================] - 3s 119ms/step - loss: 0.0042\n",
            "Epoch 21/100\n",
            "24/24 [==============================] - 3s 119ms/step - loss: 0.0038\n",
            "Epoch 22/100\n",
            "24/24 [==============================] - 3s 119ms/step - loss: 0.0037\n",
            "Epoch 23/100\n",
            "24/24 [==============================] - 3s 116ms/step - loss: 0.0051\n",
            "Epoch 24/100\n",
            "24/24 [==============================] - 3s 116ms/step - loss: 0.0038\n",
            "Epoch 25/100\n",
            "24/24 [==============================] - 3s 119ms/step - loss: 0.0035\n",
            "Epoch 26/100\n",
            "24/24 [==============================] - 3s 121ms/step - loss: 0.0034\n",
            "Epoch 27/100\n",
            "24/24 [==============================] - 3s 120ms/step - loss: 0.0033\n",
            "Epoch 28/100\n",
            "24/24 [==============================] - 3s 119ms/step - loss: 0.0049\n",
            "Epoch 29/100\n",
            "24/24 [==============================] - 3s 118ms/step - loss: 0.0039\n",
            "Epoch 30/100\n",
            "24/24 [==============================] - 3s 119ms/step - loss: 0.0035\n",
            "Epoch 31/100\n",
            "24/24 [==============================] - 3s 120ms/step - loss: 0.0031\n",
            "Epoch 32/100\n",
            "24/24 [==============================] - 3s 118ms/step - loss: 0.0037\n",
            "Epoch 33/100\n",
            "24/24 [==============================] - 3s 118ms/step - loss: 0.0035\n",
            "Epoch 34/100\n",
            "24/24 [==============================] - 3s 116ms/step - loss: 0.0035\n",
            "Epoch 35/100\n",
            "24/24 [==============================] - 3s 118ms/step - loss: 0.0030\n",
            "Epoch 36/100\n",
            "24/24 [==============================] - 3s 120ms/step - loss: 0.0029\n",
            "Epoch 37/100\n",
            "24/24 [==============================] - 3s 120ms/step - loss: 0.0032\n",
            "Epoch 38/100\n",
            "24/24 [==============================] - 3s 120ms/step - loss: 0.0029\n",
            "Epoch 39/100\n",
            "24/24 [==============================] - 3s 120ms/step - loss: 0.0027\n",
            "Epoch 40/100\n",
            "24/24 [==============================] - 3s 120ms/step - loss: 0.0032\n",
            "Epoch 41/100\n",
            "24/24 [==============================] - 3s 117ms/step - loss: 0.0028\n",
            "Epoch 42/100\n",
            "24/24 [==============================] - 3s 119ms/step - loss: 0.0030\n",
            "Epoch 43/100\n",
            "24/24 [==============================] - 3s 119ms/step - loss: 0.0027\n",
            "Epoch 44/100\n",
            "24/24 [==============================] - 3s 118ms/step - loss: 0.0026\n",
            "Epoch 45/100\n",
            "24/24 [==============================] - 3s 118ms/step - loss: 0.0025\n",
            "Epoch 46/100\n",
            "24/24 [==============================] - 3s 121ms/step - loss: 0.0024\n",
            "Epoch 47/100\n",
            "24/24 [==============================] - 3s 121ms/step - loss: 0.0030\n",
            "Epoch 48/100\n",
            "24/24 [==============================] - 3s 116ms/step - loss: 0.0032\n",
            "Epoch 49/100\n",
            "24/24 [==============================] - 3s 120ms/step - loss: 0.0026\n",
            "Epoch 50/100\n",
            "24/24 [==============================] - 3s 119ms/step - loss: 0.0026\n",
            "Epoch 51/100\n",
            "24/24 [==============================] - 3s 119ms/step - loss: 0.0024\n",
            "Epoch 52/100\n",
            "24/24 [==============================] - 3s 118ms/step - loss: 0.0024\n",
            "Epoch 53/100\n",
            "24/24 [==============================] - 3s 116ms/step - loss: 0.0026\n",
            "Epoch 54/100\n",
            "24/24 [==============================] - 3s 117ms/step - loss: 0.0036\n",
            "Epoch 55/100\n",
            "24/24 [==============================] - 3s 118ms/step - loss: 0.0029\n",
            "Epoch 56/100\n",
            "24/24 [==============================] - 3s 118ms/step - loss: 0.0027\n",
            "Epoch 57/100\n",
            "24/24 [==============================] - 3s 119ms/step - loss: 0.0023\n",
            "Epoch 58/100\n",
            "24/24 [==============================] - 3s 119ms/step - loss: 0.0026\n",
            "Epoch 59/100\n",
            "24/24 [==============================] - 3s 118ms/step - loss: 0.0025\n",
            "Epoch 60/100\n",
            "24/24 [==============================] - 3s 120ms/step - loss: 0.0024\n",
            "Epoch 61/100\n",
            "24/24 [==============================] - 3s 118ms/step - loss: 0.0025\n",
            "Epoch 62/100\n",
            "24/24 [==============================] - 3s 118ms/step - loss: 0.0022\n",
            "Epoch 63/100\n",
            "24/24 [==============================] - 3s 118ms/step - loss: 0.0022\n",
            "Epoch 64/100\n",
            "24/24 [==============================] - 3s 118ms/step - loss: 0.0021\n",
            "Epoch 65/100\n",
            "24/24 [==============================] - 3s 120ms/step - loss: 0.0021\n",
            "Epoch 66/100\n",
            "24/24 [==============================] - 3s 119ms/step - loss: 0.0021\n",
            "Epoch 67/100\n",
            "24/24 [==============================] - 3s 119ms/step - loss: 0.0025\n",
            "Epoch 68/100\n",
            "24/24 [==============================] - 3s 120ms/step - loss: 0.0022\n",
            "Epoch 69/100\n",
            "24/24 [==============================] - 3s 120ms/step - loss: 0.0021\n",
            "Epoch 70/100\n",
            "24/24 [==============================] - 3s 118ms/step - loss: 0.0018\n",
            "Epoch 71/100\n",
            "24/24 [==============================] - 3s 118ms/step - loss: 0.0019\n",
            "Epoch 72/100\n",
            "24/24 [==============================] - 3s 119ms/step - loss: 0.0022\n",
            "Epoch 73/100\n",
            "24/24 [==============================] - 3s 121ms/step - loss: 0.0023\n",
            "Epoch 74/100\n",
            "24/24 [==============================] - 3s 120ms/step - loss: 0.0023\n",
            "Epoch 75/100\n",
            "24/24 [==============================] - 3s 122ms/step - loss: 0.0019\n",
            "Epoch 76/100\n",
            "24/24 [==============================] - 3s 117ms/step - loss: 0.0017\n",
            "Epoch 77/100\n",
            "24/24 [==============================] - 3s 120ms/step - loss: 0.0024\n",
            "Epoch 78/100\n",
            "24/24 [==============================] - 3s 120ms/step - loss: 0.0020\n",
            "Epoch 79/100\n",
            "24/24 [==============================] - 3s 120ms/step - loss: 0.0015\n",
            "Epoch 80/100\n",
            "24/24 [==============================] - 3s 120ms/step - loss: 0.0016\n",
            "Epoch 81/100\n",
            "24/24 [==============================] - 3s 118ms/step - loss: 0.0018\n",
            "Epoch 82/100\n",
            "24/24 [==============================] - 3s 121ms/step - loss: 0.0018\n",
            "Epoch 83/100\n",
            "24/24 [==============================] - 3s 119ms/step - loss: 0.0021\n",
            "Epoch 84/100\n",
            "24/24 [==============================] - 3s 120ms/step - loss: 0.0020\n",
            "Epoch 85/100\n",
            "24/24 [==============================] - 3s 121ms/step - loss: 0.0016\n",
            "Epoch 86/100\n",
            "24/24 [==============================] - 3s 120ms/step - loss: 0.0016\n",
            "Epoch 87/100\n",
            "24/24 [==============================] - 3s 119ms/step - loss: 0.0016\n",
            "Epoch 88/100\n",
            "24/24 [==============================] - 3s 120ms/step - loss: 0.0017\n",
            "Epoch 89/100\n",
            "24/24 [==============================] - 3s 121ms/step - loss: 0.0017\n",
            "Epoch 90/100\n",
            "24/24 [==============================] - 3s 121ms/step - loss: 0.0019\n",
            "Epoch 91/100\n",
            "24/24 [==============================] - 3s 124ms/step - loss: 0.0017\n",
            "Epoch 92/100\n",
            "24/24 [==============================] - 3s 121ms/step - loss: 0.0018\n",
            "Epoch 93/100\n",
            "24/24 [==============================] - 3s 121ms/step - loss: 0.0030\n",
            "Epoch 94/100\n",
            "24/24 [==============================] - 3s 119ms/step - loss: 0.0021\n",
            "Epoch 95/100\n",
            "24/24 [==============================] - 3s 121ms/step - loss: 0.0015\n",
            "Epoch 96/100\n",
            "24/24 [==============================] - 3s 123ms/step - loss: 0.0019\n",
            "Epoch 97/100\n",
            "24/24 [==============================] - 3s 121ms/step - loss: 0.0016\n",
            "Epoch 98/100\n",
            "24/24 [==============================] - 3s 120ms/step - loss: 0.0015\n",
            "Epoch 99/100\n",
            "24/24 [==============================] - 3s 123ms/step - loss: 0.0013\n",
            "Epoch 100/100\n",
            "24/24 [==============================] - 3s 119ms/step - loss: 0.0020\n"
          ],
          "name": "stdout"
        },
        {
          "output_type": "execute_result",
          "data": {
            "text/plain": [
              "<tensorflow.python.keras.callbacks.History at 0x7fcd069ff7d0>"
            ]
          },
          "metadata": {
            "tags": []
          },
          "execution_count": 4
        }
      ]
    },
    {
      "cell_type": "code",
      "metadata": {
        "colab": {
          "base_uri": "https://localhost:8080/"
        },
        "id": "TrtJoxKm2Fqv",
        "outputId": "fa49a197-3db4-4c25-c375-b0ce829bcd0f"
      },
      "source": [
        "\n",
        "# Getting the predicted stock price of 2017\n",
        "dataset_train = df.iloc[:800, 1:2]\n",
        "dataset_test = df.iloc[800:, 1:2]\n",
        "dataset_total = pd.concat((dataset_train, dataset_test), axis = 0)\n",
        "inputs = dataset_total[len(dataset_total) - len(dataset_test) - 60:].values\n",
        "inputs = inputs.reshape(-1,1)\n",
        "inputs = sc.transform(inputs)\n",
        "X_test = []\n",
        "for i in range(60, 519):\n",
        "    X_test.append(inputs[i-60:i, 0])\n",
        "X_test = np.array(X_test)\n",
        "X_test = np.reshape(X_test, (X_test.shape[0], X_test.shape[1], 1))\n",
        "print(X_test.shape)\n",
        "# (459, 60, 1)"
      ],
      "execution_count": 5,
      "outputs": [
        {
          "output_type": "stream",
          "text": [
            "(459, 60, 1)\n"
          ],
          "name": "stdout"
        }
      ]
    },
    {
      "cell_type": "code",
      "metadata": {
        "id": "2kU-jDpv2ax1"
      },
      "source": [
        "\n",
        "#Make Predictions using the test set\n",
        "predicted_stock_price = model.predict(X_test)\n",
        "predicted_stock_price = sc.inverse_transform(predicted_stock_price)"
      ],
      "execution_count": 7,
      "outputs": []
    },
    {
      "cell_type": "code",
      "metadata": {
        "colab": {
          "base_uri": "https://localhost:8080/"
        },
        "id": "jbkF4gGk6pp2",
        "outputId": "0a6b5d9f-dcd8-4ecb-dcbb-524ce1c5c1fa"
      },
      "source": [
        "print(predicted_stock_price.shape)"
      ],
      "execution_count": 8,
      "outputs": [
        {
          "output_type": "stream",
          "text": [
            "(459, 1)\n"
          ],
          "name": "stdout"
        }
      ]
    },
    {
      "cell_type": "code",
      "metadata": {
        "colab": {
          "base_uri": "https://localhost:8080/",
          "height": 294
        },
        "id": "Hs1i9lmR2avX",
        "outputId": "792e6c21-505a-4c6f-86dc-a655d5dedd37"
      },
      "source": [
        "\n",
        "# Visualising the results\n",
        "plt.plot(df.loc[800:, \"Date\"],dataset_test.values, color = \"red\", label = \"Real Disney Stock Price\")\n",
        "plt.plot(df.loc[800:, \"Date\"],predicted_stock_price, color = \"blue\", label = \"Predicted Disney Stock Price\")\n",
        "plt.xticks(np.arange(0,459,50))\n",
        "plt.title('Disney Stock Price Prediction')\n",
        "plt.xlabel('Time')\n",
        "plt.ylabel('Disney Stock Price')\n",
        "plt.legend()\n",
        "plt.show()"
      ],
      "execution_count": 10,
      "outputs": [
        {
          "output_type": "display_data",
          "data": {
            "image/png": "[encoded data removed]",
            "text/plain": [
              "<Figure size 432x288 with 1 Axes>"
            ]
          },
          "metadata": {
            "tags": [],
            "needs_background": "light"
          }
        }
      ]
    },
    {
      "cell_type": "code",
      "metadata": {
        "id": "dGohJWg62an9"
      },
      "source": [
        ""
      ],
      "execution_count": null,
      "outputs": []
    },
    {
      "cell_type": "code",
      "metadata": {
        "id": "ZRNS6bXw2aem"
      },
      "source": [
        ""
      ],
      "execution_count": null,
      "outputs": []
    }
  ]
}