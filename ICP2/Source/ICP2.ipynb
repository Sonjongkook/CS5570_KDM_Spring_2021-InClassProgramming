{
  "nbformat": 4,
  "nbformat_minor": 0,
  "metadata": {
    "colab": {
      "name": "ICP2",
      "provenance": [],
      "collapsed_sections": [],
      "toc_visible": true
    },
    "kernelspec": {
      "name": "python3",
      "display_name": "Python 3"
    }
  },
  "cells": [
    {
      "cell_type": "code",
      "metadata": {
        "id": "WX50Tk34GJ6_"
      },
      "source": [
        "Input_sentence = \"Xi Jinping is a Chinese politician who has served as General Secretary of the Chinese Communist Party (CCP) and Chairman of the Central Military Commission (CMC) since 2012, and President of the People's Republic of China (PRC) since 2013. He has been the paramount leader of China, the most prominent political leader in the country, since 2012. The son of Chinese Communist veteran Xi Zhongxun, he was exiled to rural Yanchuan County as a teenager following his father's purge during the Cultural Revolutionandlived in a cave in the village of Liangjiahe, where he joined the CCP and worked as the party secretary.\""
      ],
      "execution_count": 1,
      "outputs": []
    },
    {
      "cell_type": "code",
      "metadata": {
        "colab": {
          "base_uri": "https://localhost:8080/"
        },
        "id": "w5flUJPsH0Mv",
        "outputId": "5d1175df-962e-4ae5-8a5e-bf6ae269e2a1"
      },
      "source": [
        "import nltk\r\n",
        "nltk.download('punkt')\r\n",
        "nltk.download(\"popular\")\r\n"
      ],
      "execution_count": 2,
      "outputs": [
        {
          "output_type": "stream",
          "text": [
            "[nltk_data] Downloading package punkt to /root/nltk_data...\n",
            "[nltk_data]   Unzipping tokenizers/punkt.zip.\n",
            "[nltk_data] Downloading collection 'popular'\n",
            "[nltk_data]    | \n",
            "[nltk_data]    | Downloading package cmudict to /root/nltk_data...\n",
            "[nltk_data]    |   Unzipping corpora/cmudict.zip.\n",
            "[nltk_data]    | Downloading package gazetteers to /root/nltk_data...\n",
            "[nltk_data]    |   Unzipping corpora/gazetteers.zip.\n",
            "[nltk_data]    | Downloading package genesis to /root/nltk_data...\n",
            "[nltk_data]    |   Unzipping corpora/genesis.zip.\n",
            "[nltk_data]    | Downloading package gutenberg to /root/nltk_data...\n",
            "[nltk_data]    |   Unzipping corpora/gutenberg.zip.\n",
            "[nltk_data]    | Downloading package inaugural to /root/nltk_data...\n",
            "[nltk_data]    |   Unzipping corpora/inaugural.zip.\n",
            "[nltk_data]    | Downloading package movie_reviews to\n",
            "[nltk_data]    |     /root/nltk_data...\n",
            "[nltk_data]    |   Unzipping corpora/movie_reviews.zip.\n",
            "[nltk_data]    | Downloading package names to /root/nltk_data...\n",
            "[nltk_data]    |   Unzipping corpora/names.zip.\n",
            "[nltk_data]    | Downloading package shakespeare to /root/nltk_data...\n",
            "[nltk_data]    |   Unzipping corpora/shakespeare.zip.\n",
            "[nltk_data]    | Downloading package stopwords to /root/nltk_data...\n",
            "[nltk_data]    |   Unzipping corpora/stopwords.zip.\n",
            "[nltk_data]    | Downloading package treebank to /root/nltk_data...\n",
            "[nltk_data]    |   Unzipping corpora/treebank.zip.\n",
            "[nltk_data]    | Downloading package twitter_samples to\n",
            "[nltk_data]    |     /root/nltk_data...\n",
            "[nltk_data]    |   Unzipping corpora/twitter_samples.zip.\n",
            "[nltk_data]    | Downloading package omw to /root/nltk_data...\n",
            "[nltk_data]    |   Unzipping corpora/omw.zip.\n",
            "[nltk_data]    | Downloading package wordnet to /root/nltk_data...\n",
            "[nltk_data]    |   Unzipping corpora/wordnet.zip.\n",
            "[nltk_data]    | Downloading package wordnet_ic to /root/nltk_data...\n",
            "[nltk_data]    |   Unzipping corpora/wordnet_ic.zip.\n",
            "[nltk_data]    | Downloading package words to /root/nltk_data...\n",
            "[nltk_data]    |   Unzipping corpora/words.zip.\n",
            "[nltk_data]    | Downloading package maxent_ne_chunker to\n",
            "[nltk_data]    |     /root/nltk_data...\n",
            "[nltk_data]    |   Unzipping chunkers/maxent_ne_chunker.zip.\n",
            "[nltk_data]    | Downloading package punkt to /root/nltk_data...\n",
            "[nltk_data]    |   Package punkt is already up-to-date!\n",
            "[nltk_data]    | Downloading package snowball_data to\n",
            "[nltk_data]    |     /root/nltk_data...\n",
            "[nltk_data]    | Downloading package averaged_perceptron_tagger to\n",
            "[nltk_data]    |     /root/nltk_data...\n",
            "[nltk_data]    |   Unzipping taggers/averaged_perceptron_tagger.zip.\n",
            "[nltk_data]    | \n",
            "[nltk_data]  Done downloading collection popular\n"
          ],
          "name": "stdout"
        },
        {
          "output_type": "execute_result",
          "data": {
            "text/plain": [
              "True"
            ]
          },
          "metadata": {
            "tags": []
          },
          "execution_count": 2
        }
      ]
    },
    {
      "cell_type": "code",
      "metadata": {
        "id": "F619JoKDIjuH"
      },
      "source": [
        ""
      ],
      "execution_count": 2,
      "outputs": []
    },
    {
      "cell_type": "markdown",
      "metadata": {
        "id": "52cvL1Y-JvMy"
      },
      "source": [
        "#1. Part-of-speech (POS) tagger"
      ]
    },
    {
      "cell_type": "code",
      "metadata": {
        "colab": {
          "base_uri": "https://localhost:8080/"
        },
        "id": "VY91AFjrIj90",
        "outputId": "184b37b1-7331-4194-b197-d0303a089a00"
      },
      "source": [
        "tokenized_word=nltk.word_tokenize(Input_sentence)\r\n",
        "tokenized_word[:10]"
      ],
      "execution_count": 3,
      "outputs": [
        {
          "output_type": "execute_result",
          "data": {
            "text/plain": [
              "['Xi',\n",
              " 'Jinping',\n",
              " 'is',\n",
              " 'a',\n",
              " 'Chinese',\n",
              " 'politician',\n",
              " 'who',\n",
              " 'has',\n",
              " 'served',\n",
              " 'as']"
            ]
          },
          "metadata": {
            "tags": []
          },
          "execution_count": 3
        }
      ]
    },
    {
      "cell_type": "code",
      "metadata": {
        "colab": {
          "base_uri": "https://localhost:8080/"
        },
        "id": "fAd1_wE0IkYs",
        "outputId": "d3c9af76-b4fc-45cc-a7f5-b12d3b9b53c3"
      },
      "source": [
        "tagged_word = nltk.pos_tag(tokenized_word)\r\n",
        "tagged_word[:20]\r\n"
      ],
      "execution_count": 4,
      "outputs": [
        {
          "output_type": "execute_result",
          "data": {
            "text/plain": [
              "[('Xi', 'NN'),\n",
              " ('Jinping', 'NNP'),\n",
              " ('is', 'VBZ'),\n",
              " ('a', 'DT'),\n",
              " ('Chinese', 'JJ'),\n",
              " ('politician', 'NN'),\n",
              " ('who', 'WP'),\n",
              " ('has', 'VBZ'),\n",
              " ('served', 'VBN'),\n",
              " ('as', 'IN'),\n",
              " ('General', 'NNP'),\n",
              " ('Secretary', 'NNP'),\n",
              " ('of', 'IN'),\n",
              " ('the', 'DT'),\n",
              " ('Chinese', 'NNP'),\n",
              " ('Communist', 'NNP'),\n",
              " ('Party', 'NNP'),\n",
              " ('(', '('),\n",
              " ('CCP', 'NNP'),\n",
              " (')', ')')]"
            ]
          },
          "metadata": {
            "tags": []
          },
          "execution_count": 4
        }
      ]
    },
    {
      "cell_type": "markdown",
      "metadata": {
        "id": "AVPraZ8LJ10A"
      },
      "source": [
        "#2. Named entity recognizer (NER)"
      ]
    },
    {
      "cell_type": "code",
      "metadata": {
        "id": "rN0To-yJJ62b"
      },
      "source": [
        "import spacy\r\n",
        "import en_core_web_sm\r\n",
        "nlp = en_core_web_sm.load()\r\n"
      ],
      "execution_count": 5,
      "outputs": []
    },
    {
      "cell_type": "code",
      "metadata": {
        "colab": {
          "base_uri": "https://localhost:8080/"
        },
        "id": "DuYoBki1J7UE",
        "outputId": "be9717e2-6060-4b3c-e530-0f85763b322d"
      },
      "source": [
        "doc = nlp(Input_sentence)\r\n",
        "print(\"Named entity recognizer (NER):\\n\", [(X, X.ent_type_) for X in doc])\r\n"
      ],
      "execution_count": 6,
      "outputs": [
        {
          "output_type": "stream",
          "text": [
            "Named entity recognizer (NER):\n",
            " [(Xi, 'PERSON'), (Jinping, 'PERSON'), (is, ''), (a, ''), (Chinese, 'NORP'), (politician, ''), (who, ''), (has, ''), (served, ''), (as, ''), (General, ''), (Secretary, ''), (of, ''), (the, 'ORG'), (Chinese, 'ORG'), (Communist, 'ORG'), (Party, 'ORG'), ((, ''), (CCP, 'ORG'), (), ''), (and, ''), (Chairman, ''), (of, ''), (the, 'ORG'), (Central, 'ORG'), (Military, 'ORG'), (Commission, 'ORG'), ((, ''), (CMC, ''), (), ''), (since, ''), (2012, 'DATE'), (,, ''), (and, ''), (President, ''), (of, ''), (the, 'GPE'), (People, 'GPE'), ('s, 'GPE'), (Republic, 'GPE'), (of, 'GPE'), (China, 'GPE'), ((, ''), (PRC, 'GPE'), (), ''), (since, ''), (2013, 'DATE'), (., ''), (He, ''), (has, ''), (been, ''), (the, ''), (paramount, ''), (leader, ''), (of, ''), (China, 'GPE'), (,, ''), (the, ''), (most, ''), (prominent, ''), (political, ''), (leader, ''), (in, ''), (the, ''), (country, ''), (,, ''), (since, ''), (2012, 'DATE'), (., ''), (The, ''), (son, ''), (of, ''), (Chinese, 'NORP'), (Communist, 'NORP'), (veteran, ''), (Xi, 'PERSON'), (Zhongxun, 'PERSON'), (,, ''), (he, ''), (was, ''), (exiled, ''), (to, ''), (rural, ''), (Yanchuan, 'GPE'), (County, 'GPE'), (as, ''), (a, ''), (teenager, ''), (following, ''), (his, ''), (father, ''), ('s, ''), (purge, ''), (during, ''), (the, 'EVENT'), (Cultural, 'EVENT'), (Revolutionandlived, 'EVENT'), (in, ''), (a, ''), (cave, ''), (in, ''), (the, ''), (village, ''), (of, ''), (Liangjiahe, 'GPE'), (,, ''), (where, ''), (he, ''), (joined, ''), (the, ''), (CCP, 'ORG'), (and, ''), (worked, ''), (as, ''), (the, ''), (party, ''), (secretary, ''), (., '')]\n"
          ],
          "name": "stdout"
        }
      ]
    },
    {
      "cell_type": "code",
      "metadata": {
        "id": "6xGxUQZ0J7ie"
      },
      "source": [
        ""
      ],
      "execution_count": 6,
      "outputs": []
    },
    {
      "cell_type": "markdown",
      "metadata": {
        "id": "3oKc07--J7z2"
      },
      "source": [
        "#3. Co-reference resolution"
      ]
    },
    {
      "cell_type": "code",
      "metadata": {
        "id": "j2wsNHDId9Hz"
      },
      "source": [
        "\r\n",
        "!pip install spacy\r\n",
        "# NeuralCoref is a pipeline extension for spaCy 2.1+ which annotates and resolves coreference clusters using a neural network\r\n",
        "!pip install neuralcoref --no-binary neuralcoref\r\n",
        "!python -m spacy download en\r\n",
        "\r\n"
      ],
      "execution_count": null,
      "outputs": []
    },
    {
      "cell_type": "code",
      "metadata": {
        "id": "1P3VADiAaI7K"
      },
      "source": [
        "# Co-reference occurs when  two or more expressions  in a text refer to the same person  or thing;  they have the same referent,\r\n",
        "!git clone https://github.com/huggingface/neuralcoref.git\r\n",
        "!python -m spacy download en\r\n",
        "\r\n",
        "%cd neuralcoref\r\n",
        "\r\n",
        "!pip install -r requirements.txt\r\n",
        "!pip install -e ."
      ],
      "execution_count": null,
      "outputs": []
    },
    {
      "cell_type": "code",
      "metadata": {
        "colab": {
          "base_uri": "https://localhost:8080/"
        },
        "id": "sE-hbJSeKBBk",
        "outputId": "212f1522-a539-4f91-fa5a-1b23ffc13ef8"
      },
      "source": [
        "# Load  usual spacy English model\r\n",
        "import spacy\r\n",
        "nlp = spacy.load('en')\r\n",
        "\r\n",
        "# Add neural coref to spacy's pipe\r\n",
        "import neuralcoref\r\n",
        "neuralcoref.add_to_pipe(nlp)"
      ],
      "execution_count": 9,
      "outputs": [
        {
          "output_type": "stream",
          "text": [
            "/usr/lib/python3.6/importlib/_bootstrap.py:219: RuntimeWarning: spacy.morphology.Morphology size changed, may indicate binary incompatibility. Expected 104 from C header, got 112 from PyObject\n",
            "  return f(*args, **kwds)\n",
            "/usr/lib/python3.6/importlib/_bootstrap.py:219: RuntimeWarning: spacy.vocab.Vocab size changed, may indicate binary incompatibility. Expected 96 from C header, got 104 from PyObject\n",
            "  return f(*args, **kwds)\n",
            "100%|██████████| 40155833/40155833 [00:00<00:00, 67551481.46B/s]\n"
          ],
          "name": "stderr"
        },
        {
          "output_type": "execute_result",
          "data": {
            "text/plain": [
              "<spacy.lang.en.English at 0x7f0c67553ef0>"
            ]
          },
          "metadata": {
            "tags": []
          },
          "execution_count": 9
        }
      ]
    },
    {
      "cell_type": "code",
      "metadata": {
        "colab": {
          "base_uri": "https://localhost:8080/"
        },
        "id": "QBOF2NuxxwBb",
        "outputId": "4637b787-d18b-4068-ed37-336bcef07e79"
      },
      "source": [
        "#  use NeuralCoref as manipulate a spacy document annotations.\r\n",
        "doc = nlp(Input_sentence)\r\n",
        "\r\n",
        "print(doc._.has_coref)\r\n",
        "print(doc._.coref_clusters)"
      ],
      "execution_count": 15,
      "outputs": [
        {
          "output_type": "stream",
          "text": [
            "True\n",
            "[Xi Jinping: [Xi Jinping, He, he, his, he], China: [China, China, the country]]\n"
          ],
          "name": "stdout"
        }
      ]
    },
    {
      "cell_type": "code",
      "metadata": {
        "id": "vGUzlP77wE5A"
      },
      "source": [
        ""
      ],
      "execution_count": 10,
      "outputs": []
    },
    {
      "cell_type": "markdown",
      "metadata": {
        "id": "sNgLS2oQKAlD"
      },
      "source": [
        "\r\n",
        "\r\n",
        "#4. Lemmatization"
      ]
    },
    {
      "cell_type": "code",
      "metadata": {
        "colab": {
          "base_uri": "https://localhost:8080/"
        },
        "id": "G6Hfx87FKGVV",
        "outputId": "c2c2f8a2-868f-4ad2-9c8c-8976ff9325f7"
      },
      "source": [
        "import nltk\r\n",
        "from nltk.stem import WordNetLemmatizer\r\n",
        "wordnet_lemmatizer = WordNetLemmatizer()\r\n",
        "\r\n",
        "sentence = Input_sentence\r\n",
        "punctuations=\"?:!.,;()\"\r\n",
        "sentence_words = nltk.word_tokenize(sentence)\r\n",
        "\r\n",
        "for word in sentence_words:\r\n",
        "    if word in punctuations:\r\n",
        "        sentence_words.remove(word)\r\n",
        "\r\n",
        "sentence_words\r\n",
        "print(\"{0:20}{1:20}\".format(\"Word\",\"Lemma\"))\r\n",
        "for word in sentence_words:\r\n",
        "    print(\"{0:20}{1:20}\".format(word,wordnet_lemmatizer.lemmatize(word)))"
      ],
      "execution_count": 17,
      "outputs": [
        {
          "output_type": "stream",
          "text": [
            "Word                Lemma               \n",
            "Xi                  Xi                  \n",
            "Jinping             Jinping             \n",
            "is                  is                  \n",
            "a                   a                   \n",
            "Chinese             Chinese             \n",
            "politician          politician          \n",
            "who                 who                 \n",
            "has                 ha                  \n",
            "served              served              \n",
            "as                  a                   \n",
            "General             General             \n",
            "Secretary           Secretary           \n",
            "of                  of                  \n",
            "the                 the                 \n",
            "Chinese             Chinese             \n",
            "Communist           Communist           \n",
            "Party               Party               \n",
            "CCP                 CCP                 \n",
            "and                 and                 \n",
            "Chairman            Chairman            \n",
            "of                  of                  \n",
            "the                 the                 \n",
            "Central             Central             \n",
            "Military            Military            \n",
            "Commission          Commission          \n",
            "CMC                 CMC                 \n",
            "since               since               \n",
            "2012                2012                \n",
            "and                 and                 \n",
            "President           President           \n",
            "of                  of                  \n",
            "the                 the                 \n",
            "People              People              \n",
            "'s                  's                  \n",
            "Republic            Republic            \n",
            "of                  of                  \n",
            "China               China               \n",
            "PRC                 PRC                 \n",
            "since               since               \n",
            "2013                2013                \n",
            "He                  He                  \n",
            "has                 ha                  \n",
            "been                been                \n",
            "the                 the                 \n",
            "paramount           paramount           \n",
            "leader              leader              \n",
            "of                  of                  \n",
            "China               China               \n",
            "the                 the                 \n",
            "most                most                \n",
            "prominent           prominent           \n",
            "political           political           \n",
            "leader              leader              \n",
            "in                  in                  \n",
            "the                 the                 \n",
            "country             country             \n",
            "since               since               \n",
            "2012                2012                \n",
            "The                 The                 \n",
            "son                 son                 \n",
            "of                  of                  \n",
            "Chinese             Chinese             \n",
            "Communist           Communist           \n",
            "veteran             veteran             \n",
            "Xi                  Xi                  \n",
            "Zhongxun            Zhongxun            \n",
            "he                  he                  \n",
            "was                 wa                  \n",
            "exiled              exiled              \n",
            "to                  to                  \n",
            "rural               rural               \n",
            "Yanchuan            Yanchuan            \n",
            "County              County              \n",
            "as                  a                   \n",
            "a                   a                   \n",
            "teenager            teenager            \n",
            "following           following           \n",
            "his                 his                 \n",
            "father              father              \n",
            "'s                  's                  \n",
            "purge               purge               \n",
            "during              during              \n",
            "the                 the                 \n",
            "Cultural            Cultural            \n",
            "Revolutionandlived  Revolutionandlived  \n",
            "in                  in                  \n",
            "a                   a                   \n",
            "cave                cave                \n",
            "in                  in                  \n",
            "the                 the                 \n",
            "village             village             \n",
            "of                  of                  \n",
            "Liangjiahe          Liangjiahe          \n",
            "where               where               \n",
            "he                  he                  \n",
            "joined              joined              \n",
            "the                 the                 \n",
            "CCP                 CCP                 \n",
            "and                 and                 \n",
            "worked              worked              \n",
            "as                  a                   \n",
            "the                 the                 \n",
            "party               party               \n",
            "secretary           secretary           \n"
          ],
          "name": "stdout"
        }
      ]
    },
    {
      "cell_type": "code",
      "metadata": {
        "id": "uy6g1SSaKHq-"
      },
      "source": [
        ""
      ],
      "execution_count": 11,
      "outputs": []
    },
    {
      "cell_type": "markdown",
      "metadata": {
        "id": "9Kub58I5KYMw"
      },
      "source": [
        "#5. Parsing "
      ]
    },
    {
      "cell_type": "code",
      "metadata": {
        "id": "WPFOScKiLmHU"
      },
      "source": [
        "from textblob import TextBlob\r\n"
      ],
      "execution_count": 12,
      "outputs": []
    },
    {
      "cell_type": "code",
      "metadata": {
        "id": "0KlNewulABm8"
      },
      "source": [
        "blob_sentence = TextBlob(Input_sentence)"
      ],
      "execution_count": 13,
      "outputs": []
    },
    {
      "cell_type": "code",
      "metadata": {
        "colab": {
          "base_uri": "https://localhost:8080/",
          "height": 143
        },
        "id": "CsppwASJKc34",
        "outputId": "4f209f3f-f23c-43c6-bf45-ec5448bf2717"
      },
      "source": [
        "blob_sentence.parse()"
      ],
      "execution_count": 14,
      "outputs": [
        {
          "output_type": "execute_result",
          "data": {
            "application/vnd.google.colaboratory.intrinsic+json": {
              "type": "string"
            },
            "text/plain": [
              "\"Xi/NNP/B-NP/O Jinping/NNP/I-NP/O is/VBZ/B-VP/O a/DT/B-NP/O Chinese/JJ/I-NP/O politician/NN/I-NP/O who/WP/O/O has/VBZ/B-VP/O served/VBN/I-VP/O as/IN/B-PP/B-PNP General/NNP/B-NP/I-PNP Secretary/NNP/I-NP/I-PNP of/IN/B-PP/B-PNP the/DT/B-NP/I-PNP Chinese/JJ/I-NP/I-PNP Communist/NNP/I-NP/I-PNP Party/NNP/I-NP/I-PNP (/(/O/O CCP/NN/B-NP/O )/)/O/O and/CC/O/O Chairman/NNP/B-NP/O of/IN/B-PP/B-PNP the/DT/B-NP/I-PNP Central/NNP/I-NP/I-PNP Military/NNP/I-NP/I-PNP Commission/NNP/I-NP/I-PNP (/(/O/O CMC/NN/B-NP/O )/)/O/O since/IN/B-PP/O 2012/CD/O/O ,/,/O/O and/CC/O/O President/NNP/B-NP/O of/IN/B-PP/B-PNP the/DT/B-NP/I-PNP People/NNS/I-NP/I-PNP '/POS/O/O s/PRP/B-NP/O Republic/NNP/I-NP/O of/IN/B-PP/B-PNP China/NNP/B-NP/I-PNP (/(/O/O PRC/NNP/B-NP/O )/)/O/O since/IN/B-PP/O 2013/CD/O/O ././O/O\\nHe/PRP/B-NP/O has/VBZ/B-VP/O been/VBN/I-VP/O the/DT/B-NP/O paramount/JJ/I-NP/O leader/NN/I-NP/O of/IN/B-PP/B-PNP China/NNP/B-NP/I-PNP ,/,/O/O the/DT/B-NP/O most/RBS/I-NP/O prominent/JJ/I-NP/O political/JJ/I-NP/O leader/NN/I-NP/O in/IN/B-PP/B-PNP the/DT/B-NP/I-PNP country/NN/I-NP/I-PNP ,/,/O/O since/IN/B-PP/O 2012/CD/O/O ././O/O\\nThe/DT/B-NP/O son/NN/I-NP/O of/IN/B-PP/B-PNP Chinese/JJ/B-NP/I-PNP Communist/NNP/I-NP/I-PNP veteran/NN/I-NP/I-PNP Xi/NNP/I-NP/I-PNP Zhongxun/NNP/I-NP/I-PNP ,/,/O/O he/PRP/B-NP/O was/VBD/B-VP/O exiled/VBN/I-VP/O to/TO/B-PP/B-PNP rural/JJ/B-NP/I-PNP Yanchuan/NNP/I-NP/I-PNP County/NNP/I-NP/I-PNP as/IN/B-PP/B-PNP a/DT/B-NP/I-PNP teenager/NN/I-NP/I-PNP following/VBG/B-VP/I-PNP his/PRP$/B-NP/I-PNP father/NN/I-NP/I-PNP '/POS/O/O s/PRP/B-NP/O purge/NN/I-NP/O during/IN/B-PP/B-PNP the/DT/B-NP/I-PNP Cultural/NNP/I-NP/I-PNP Revolutionandlived/NNP/I-NP/I-PNP in/IN/B-PP/B-PNP a/DT/B-NP/I-PNP cave/NN/I-NP/I-PNP in/IN/B-PP/B-PNP the/DT/B-NP/I-PNP village/NN/I-NP/I-PNP of/IN/B-PP/B-PNP Liangjiahe/NNP/B-NP/I-PNP ,/,/O/O where/WRB/B-ADVP/O he/PRP/B-NP/O joined/VBD/B-VP/O the/DT/B-NP/O CCP/NN/I-NP/O and/CC/O/O worked/VBD/B-VP/O as/IN/B-PP/B-PNP the/DT/B-NP/I-PNP party/NN/I-NP/I-PNP secretary/NN/I-NP/I-PNP ././O/O\""
            ]
          },
          "metadata": {
            "tags": []
          },
          "execution_count": 14
        }
      ]
    },
    {
      "cell_type": "code",
      "metadata": {
        "id": "c6ZdrWpM_QW4"
      },
      "source": [
        ""
      ],
      "execution_count": 14,
      "outputs": []
    }
  ]
}