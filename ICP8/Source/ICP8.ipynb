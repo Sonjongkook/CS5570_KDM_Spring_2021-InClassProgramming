{
  "nbformat": 4,
  "nbformat_minor": 0,
  "metadata": {
    "colab": {
      "name": "ICP8.ipynb",
      "provenance": []
    },
    "kernelspec": {
      "name": "python3",
      "display_name": "Python 3"
    }
  },
  "cells": [
    {
      "cell_type": "markdown",
      "metadata": {
        "id": "1Arl-sd9QTR9"
      },
      "source": [
        "# 1. Triplet Extraction"
      ]
    },
    {
      "cell_type": "code",
      "metadata": {
        "colab": {
          "base_uri": "https://localhost:8080/"
        },
        "id": "onmxAN4iQPGA",
        "outputId": "6e020a91-136f-4106-e050-1bb54bc0f1ff"
      },
      "source": [
        "!pip install spacy\r\n",
        "!python3 -m spacy download en_core_web_sm"
      ],
      "execution_count": 1,
      "outputs": [
        {
          "output_type": "stream",
          "text": [
            "Requirement already satisfied: spacy in /usr/local/lib/python3.7/dist-packages (2.2.4)\n",
            "Requirement already satisfied: thinc==7.4.0 in /usr/local/lib/python3.7/dist-packages (from spacy) (7.4.0)\n",
            "Requirement already satisfied: blis<0.5.0,>=0.4.0 in /usr/local/lib/python3.7/dist-packages (from spacy) (0.4.1)\n",
            "Requirement already satisfied: srsly<1.1.0,>=1.0.2 in /usr/local/lib/python3.7/dist-packages (from spacy) (1.0.5)\n",
            "Requirement already satisfied: numpy>=1.15.0 in /usr/local/lib/python3.7/dist-packages (from spacy) (1.19.5)\n",
            "Requirement already satisfied: preshed<3.1.0,>=3.0.2 in /usr/local/lib/python3.7/dist-packages (from spacy) (3.0.5)\n",
            "Requirement already satisfied: tqdm<5.0.0,>=4.38.0 in /usr/local/lib/python3.7/dist-packages (from spacy) (4.41.1)\n",
            "Requirement already satisfied: plac<1.2.0,>=0.9.6 in /usr/local/lib/python3.7/dist-packages (from spacy) (1.1.3)\n",
            "Requirement already satisfied: wasabi<1.1.0,>=0.4.0 in /usr/local/lib/python3.7/dist-packages (from spacy) (0.8.2)\n",
            "Requirement already satisfied: requests<3.0.0,>=2.13.0 in /usr/local/lib/python3.7/dist-packages (from spacy) (2.23.0)\n",
            "Requirement already satisfied: murmurhash<1.1.0,>=0.28.0 in /usr/local/lib/python3.7/dist-packages (from spacy) (1.0.5)\n",
            "Requirement already satisfied: catalogue<1.1.0,>=0.0.7 in /usr/local/lib/python3.7/dist-packages (from spacy) (1.0.0)\n",
            "Requirement already satisfied: cymem<2.1.0,>=2.0.2 in /usr/local/lib/python3.7/dist-packages (from spacy) (2.0.5)\n",
            "Requirement already satisfied: setuptools in /usr/local/lib/python3.7/dist-packages (from spacy) (54.0.0)\n",
            "Requirement already satisfied: urllib3!=1.25.0,!=1.25.1,<1.26,>=1.21.1 in /usr/local/lib/python3.7/dist-packages (from requests<3.0.0,>=2.13.0->spacy) (1.24.3)\n",
            "Requirement already satisfied: chardet<4,>=3.0.2 in /usr/local/lib/python3.7/dist-packages (from requests<3.0.0,>=2.13.0->spacy) (3.0.4)\n",
            "Requirement already satisfied: idna<3,>=2.5 in /usr/local/lib/python3.7/dist-packages (from requests<3.0.0,>=2.13.0->spacy) (2.10)\n",
            "Requirement already satisfied: certifi>=2017.4.17 in /usr/local/lib/python3.7/dist-packages (from requests<3.0.0,>=2.13.0->spacy) (2020.12.5)\n",
            "Requirement already satisfied: importlib-metadata>=0.20; python_version < \"3.8\" in /usr/local/lib/python3.7/dist-packages (from catalogue<1.1.0,>=0.0.7->spacy) (3.7.0)\n",
            "Requirement already satisfied: typing-extensions>=3.6.4; python_version < \"3.8\" in /usr/local/lib/python3.7/dist-packages (from importlib-metadata>=0.20; python_version < \"3.8\"->catalogue<1.1.0,>=0.0.7->spacy) (3.7.4.3)\n",
            "Requirement already satisfied: zipp>=0.5 in /usr/local/lib/python3.7/dist-packages (from importlib-metadata>=0.20; python_version < \"3.8\"->catalogue<1.1.0,>=0.0.7->spacy) (3.4.1)\n",
            "Requirement already satisfied: en_core_web_sm==2.2.5 from https://github.com/explosion/spacy-models/releases/download/en_core_web_sm-2.2.5/en_core_web_sm-2.2.5.tar.gz#egg=en_core_web_sm==2.2.5 in /usr/local/lib/python3.7/dist-packages (2.2.5)\n",
            "Requirement already satisfied: spacy>=2.2.2 in /usr/local/lib/python3.7/dist-packages (from en_core_web_sm==2.2.5) (2.2.4)\n",
            "Requirement already satisfied: srsly<1.1.0,>=1.0.2 in /usr/local/lib/python3.7/dist-packages (from spacy>=2.2.2->en_core_web_sm==2.2.5) (1.0.5)\n",
            "Requirement already satisfied: setuptools in /usr/local/lib/python3.7/dist-packages (from spacy>=2.2.2->en_core_web_sm==2.2.5) (54.0.0)\n",
            "Requirement already satisfied: murmurhash<1.1.0,>=0.28.0 in /usr/local/lib/python3.7/dist-packages (from spacy>=2.2.2->en_core_web_sm==2.2.5) (1.0.5)\n",
            "Requirement already satisfied: requests<3.0.0,>=2.13.0 in /usr/local/lib/python3.7/dist-packages (from spacy>=2.2.2->en_core_web_sm==2.2.5) (2.23.0)\n",
            "Requirement already satisfied: blis<0.5.0,>=0.4.0 in /usr/local/lib/python3.7/dist-packages (from spacy>=2.2.2->en_core_web_sm==2.2.5) (0.4.1)\n",
            "Requirement already satisfied: thinc==7.4.0 in /usr/local/lib/python3.7/dist-packages (from spacy>=2.2.2->en_core_web_sm==2.2.5) (7.4.0)\n",
            "Requirement already satisfied: catalogue<1.1.0,>=0.0.7 in /usr/local/lib/python3.7/dist-packages (from spacy>=2.2.2->en_core_web_sm==2.2.5) (1.0.0)\n",
            "Requirement already satisfied: tqdm<5.0.0,>=4.38.0 in /usr/local/lib/python3.7/dist-packages (from spacy>=2.2.2->en_core_web_sm==2.2.5) (4.41.1)\n",
            "Requirement already satisfied: numpy>=1.15.0 in /usr/local/lib/python3.7/dist-packages (from spacy>=2.2.2->en_core_web_sm==2.2.5) (1.19.5)\n",
            "Requirement already satisfied: preshed<3.1.0,>=3.0.2 in /usr/local/lib/python3.7/dist-packages (from spacy>=2.2.2->en_core_web_sm==2.2.5) (3.0.5)\n",
            "Requirement already satisfied: cymem<2.1.0,>=2.0.2 in /usr/local/lib/python3.7/dist-packages (from spacy>=2.2.2->en_core_web_sm==2.2.5) (2.0.5)\n",
            "Requirement already satisfied: plac<1.2.0,>=0.9.6 in /usr/local/lib/python3.7/dist-packages (from spacy>=2.2.2->en_core_web_sm==2.2.5) (1.1.3)\n",
            "Requirement already satisfied: wasabi<1.1.0,>=0.4.0 in /usr/local/lib/python3.7/dist-packages (from spacy>=2.2.2->en_core_web_sm==2.2.5) (0.8.2)\n",
            "Requirement already satisfied: certifi>=2017.4.17 in /usr/local/lib/python3.7/dist-packages (from requests<3.0.0,>=2.13.0->spacy>=2.2.2->en_core_web_sm==2.2.5) (2020.12.5)\n",
            "Requirement already satisfied: idna<3,>=2.5 in /usr/local/lib/python3.7/dist-packages (from requests<3.0.0,>=2.13.0->spacy>=2.2.2->en_core_web_sm==2.2.5) (2.10)\n",
            "Requirement already satisfied: urllib3!=1.25.0,!=1.25.1,<1.26,>=1.21.1 in /usr/local/lib/python3.7/dist-packages (from requests<3.0.0,>=2.13.0->spacy>=2.2.2->en_core_web_sm==2.2.5) (1.24.3)\n",
            "Requirement already satisfied: chardet<4,>=3.0.2 in /usr/local/lib/python3.7/dist-packages (from requests<3.0.0,>=2.13.0->spacy>=2.2.2->en_core_web_sm==2.2.5) (3.0.4)\n",
            "Requirement already satisfied: importlib-metadata>=0.20; python_version < \"3.8\" in /usr/local/lib/python3.7/dist-packages (from catalogue<1.1.0,>=0.0.7->spacy>=2.2.2->en_core_web_sm==2.2.5) (3.7.0)\n",
            "Requirement already satisfied: zipp>=0.5 in /usr/local/lib/python3.7/dist-packages (from importlib-metadata>=0.20; python_version < \"3.8\"->catalogue<1.1.0,>=0.0.7->spacy>=2.2.2->en_core_web_sm==2.2.5) (3.4.1)\n",
            "Requirement already satisfied: typing-extensions>=3.6.4; python_version < \"3.8\" in /usr/local/lib/python3.7/dist-packages (from importlib-metadata>=0.20; python_version < \"3.8\"->catalogue<1.1.0,>=0.0.7->spacy>=2.2.2->en_core_web_sm==2.2.5) (3.7.4.3)\n",
            "\u001b[38;5;2m✔ Download and installation successful\u001b[0m\n",
            "You can now load the model via spacy.load('en_core_web_sm')\n"
          ],
          "name": "stdout"
        }
      ]
    },
    {
      "cell_type": "code",
      "metadata": {
        "id": "vwqnusMjQjYv"
      },
      "source": [
        "\r\n",
        "import spacy\r\n",
        "from spacy.lang.en import English\r\n",
        "import networkx as nx\r\n",
        "import matplotlib.pyplot as plt"
      ],
      "execution_count": 2,
      "outputs": []
    },
    {
      "cell_type": "code",
      "metadata": {
        "id": "gtpl6w0cQkPD"
      },
      "source": [
        "def getSentences(text):\r\n",
        "    nlp = English()\r\n",
        "    nlp.add_pipe(nlp.create_pipe('sentencizer'))\r\n",
        "    document = nlp(text)\r\n",
        "    return [sent.string.strip() for sent in document.sents]\r\n",
        "\r\n",
        "def printToken(token):\r\n",
        "    #print(token.text, \"->\", token.dep_)\r\n",
        "    return\r\n",
        "\r\n",
        "def appendChunk(original, chunk):\r\n",
        "    return original + ' ' + chunk\r\n",
        "\r\n",
        "def isRelationCandidate(token):\r\n",
        "    deps = [\"ROOT\", \"adj\", \"attr\", \"agent\", \"amod\"]\r\n",
        "    return any(subs in token.dep_ for subs in deps)\r\n",
        "\r\n",
        "def isConstructionCandidate(token):\r\n",
        "    deps = [\"compound\", \"prep\", \"conj\", \"mod\"]\r\n",
        "    return any(subs in token.dep_ for subs in deps)"
      ],
      "execution_count": 3,
      "outputs": []
    },
    {
      "cell_type": "code",
      "metadata": {
        "id": "eN2Bh6iKQkfP"
      },
      "source": [
        "def processSubjectObjectPairs(tokens):\r\n",
        "    subject = ''\r\n",
        "    object = ''\r\n",
        "    relation = ''\r\n",
        "    subjectConstruction = ''\r\n",
        "    objectConstruction = ''\r\n",
        "    for token in tokens:\r\n",
        "        printToken(token)\r\n",
        "        if \"punct\" in token.dep_:\r\n",
        "            continue\r\n",
        "        if isRelationCandidate(token):\r\n",
        "            relation = appendChunk(relation, token.lemma_)\r\n",
        "        if isConstructionCandidate(token):\r\n",
        "            if subjectConstruction:\r\n",
        "                subjectConstruction = appendChunk(subjectConstruction, token.text)\r\n",
        "            if objectConstruction:\r\n",
        "                objectConstruction = appendChunk(objectConstruction, token.text)\r\n",
        "        if \"subj\" in token.dep_:\r\n",
        "            subject = appendChunk(subject, token.text)\r\n",
        "            subject = appendChunk(subjectConstruction, subject)\r\n",
        "            subjectConstruction = ''\r\n",
        "        if \"obj\" in token.dep_:\r\n",
        "            object = appendChunk(object, token.text)\r\n",
        "            object = appendChunk(objectConstruction, object)\r\n",
        "            objectConstruction = ''\r\n",
        "\r\n",
        "  # printing triplets of given sentence\r\n",
        "    # print (\"\\nThe triplet of the given sentence is: \\nSubject: \", subject.strip(),\r\n",
        "    #         \",\\nRelation: \", relation.strip(),\r\n",
        "    #         \",\\nObject: \", object.strip())\r\n",
        "    return (subject.strip(), relation.strip(), object.strip())"
      ],
      "execution_count": 4,
      "outputs": []
    },
    {
      "cell_type": "code",
      "metadata": {
        "id": "sUYggHsCQp2B"
      },
      "source": [
        "def processSentence(sentence):\r\n",
        "    tokens = nlp_model(sentence)\r\n",
        "    return processSubjectObjectPairs(tokens)"
      ],
      "execution_count": 5,
      "outputs": []
    },
    {
      "cell_type": "code",
      "metadata": {
        "colab": {
          "base_uri": "https://localhost:8080/"
        },
        "id": "T_NCpGyuQtnh",
        "outputId": "822083d1-4fea-4cdc-e79b-5ab91dc0275d"
      },
      "source": [
        "if __name__ == \"__main__\":\r\n",
        "\r\n",
        "    text = \"I won everything but Georgia. And I won Georgia, I know that. By a lot. And the people know it. And something happened there. Something bad happened.\" \\\r\n",
        "            \"Trump reportedly told Watson during the phone call. Results of the audit found no evidence of fraudulent mail-in ballots and Biden was declared winner of Georgia in the election\" \r\n",
        "    sentences = getSentences(text)\r\n",
        "    nlp_model = spacy.load('en_core_web_sm')\r\n",
        "\r\n",
        "    \r\n",
        "    triples = []\r\n",
        "    print (text)\r\n",
        "    for sentence in sentences:\r\n",
        "        triples.append(processSentence(sentence))\r\n",
        "\r\n",
        "    print(triples)"
      ],
      "execution_count": 6,
      "outputs": [
        {
          "output_type": "stream",
          "text": [
            "I won everything but Georgia. And I won Georgia, I know that. By a lot. And the people know it. And something happened there. Something bad happened.Trump reportedly told Watson during the phone call. Results of the audit found no evidence of fraudulent mail-in ballots and Biden was declared winner of Georgia in the election\n",
            "[('I', 'win', 'everything Georgia'), ('I I', 'know', 'Georgia that'), ('', 'by', 'lot'), ('people', 'know', 'it'), ('something', 'happen', ''), ('Something', 'bad happen', ''), ('Trump', 'tell', 'Watson call'), ('Results', 'find fraudulent', 'audit evidence mail ballots Georgia election')]\n"
          ],
          "name": "stdout"
        }
      ]
    },
    {
      "cell_type": "code",
      "metadata": {
        "colab": {
          "base_uri": "https://localhost:8080/"
        },
        "id": "QL95DuaDQuTp",
        "outputId": "41aff5e0-314e-4456-f157-ba371bc1fb1a"
      },
      "source": [
        "if __name__ == \"__main__\":\r\n",
        "\r\n",
        "    text = \"The agency is still urging unvaccinated Americans to socially distance from people who don't live in their home, wear masks and avoid crowds, measures that have been critical to slowing the spread of the deadly virus over the last year.\\\r\n",
        "          Fauci also warned that the US could see a situation similar to that in Italy, where a surge in cases due to new variants and other issues caused the government to announce a new lockdown starting Monday.\" \r\n",
        "    sentences = getSentences(text)\r\n",
        "    nlp_model = spacy.load('en_core_web_sm')\r\n",
        "\r\n",
        "    \r\n",
        "    triples = []\r\n",
        "    print (text)\r\n",
        "    for sentence in sentences:\r\n",
        "        triples.append(processSentence(sentence))\r\n",
        "\r\n",
        "    print(triples)"
      ],
      "execution_count": 7,
      "outputs": [
        {
          "output_type": "stream",
          "text": [
            "The agency is still urging unvaccinated Americans to socially distance from people who don't live in their home, wear masks and avoid crowds, measures that have been critical to slowing the spread of the deadly virus over the last year.          Fauci also warned that the US could see a situation similar to that in Italy, where a surge in cases due to new variants and other issues caused the government to announce a new lockdown starting Monday.\n",
            "[('agency who that', 'urge unvaccinated deadly last', 'Americans distance people home masks crowds measures spread virus year'), ('Fauci US surge government', 'warn similar due new other new', 'situation that Italy cases variants lockdown')]\n"
          ],
          "name": "stdout"
        }
      ]
    },
    {
      "cell_type": "code",
      "metadata": {
        "colab": {
          "base_uri": "https://localhost:8080/"
        },
        "id": "LjYEul9D_3pu",
        "outputId": "20e7f6d7-a66a-46ba-a4af-e2f465eb0c32"
      },
      "source": [
        "if __name__ == \"__main__\":\r\n",
        "\r\n",
        "    text = \"The average birth rate in South Korea dropped to a fresh low of 0.84 last year, the world’s lowest, which population experts said will unlikely bounce back without an increase in decent jobs and affordable housing for young adults.\\\r\n",
        "        The 2020 number compared with 0.92 recorded a year earlier, meaning since 2018 the average South Korean woman gives birth to fewer than one child during her lifetime, Statistics Korea said on Feb. 24. The tally marked the lowest since the country began compiling the data.\" \r\n",
        "    sentences = getSentences(text)\r\n",
        "    nlp_model = spacy.load('en_core_web_sm')\r\n",
        "\r\n",
        "    \r\n",
        "    triples = []\r\n",
        "    print (text)\r\n",
        "    for sentence in sentences:\r\n",
        "        triples.append(processSentence(sentence))\r\n",
        "\r\n",
        "    print(triples)"
      ],
      "execution_count": 8,
      "outputs": [
        {
          "output_type": "stream",
          "text": [
            "The average birth rate in South Korea dropped to a fresh low of 0.84 last year, the world’s lowest, which population experts said will unlikely bounce back without an increase in decent jobs and affordable housing for young adults.        The 2020 number compared with 0.92 recorded a year earlier, meaning since 2018 the average South Korean woman gives birth to fewer than one child during her lifetime, Statistics Korea said on Feb. 24. The tally marked the lowest since the country began compiling the data.\n",
            "[('rate which experts', 'average drop fresh last decent affordable young', 'Korea low year increase jobs adults'), ('number woman Korea', 'average south korean few say', 'recorded 2018 birth child lifetime Feb.'), ('tally country', 'mark', 'lowest data')]\n"
          ],
          "name": "stdout"
        }
      ]
    }
  ]
}